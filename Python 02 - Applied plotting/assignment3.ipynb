{
 "cells": [
  {
   "cell_type": "code",
   "execution_count": 1,
   "metadata": {
    "collapsed": false
   },
   "outputs": [
    {
     "data": {
      "image/png": "[encoded data removed]",
      "text/plain": [
       "<matplotlib.figure.Figure at 0x7fcbb5195f98>"
      ]
     },
     "metadata": {},
     "output_type": "display_data"
    }
   ],
   "source": [
    "# Use the following data for this assignment:\n",
    "\n",
    "import pandas as pd\n",
    "import numpy as np\n",
    "import matplotlib.pyplot as plt\n",
    "import matplotlib.cm as cm\n",
    "\n",
    "def data_to_barplot():\n",
    "    np.random.seed(12345)\n",
    "\n",
    "    df = pd.DataFrame([np.random.normal(32000,200000,3650), \n",
    "                       np.random.normal(43000,100000,3650), \n",
    "                       np.random.normal(43500,140000,3650), \n",
    "                       np.random.normal(48000,70000,3650)], \n",
    "                      index=[1992,1993,1994,1995])\n",
    "    # getting mean, standard deviation, standard error:\n",
    "    df['year_avg'] = df.mean(axis = 1)\n",
    "    df['year_std'] = df.std(axis = 1)\n",
    "    df['year_error'] = df['year_std'] / np.sqrt(3650)\n",
    "    # removing unnecessary columns and calculating 95% conf interval\n",
    "    columns_to_keep = ['year_avg', 'year_std', 'year_error']\n",
    "    df = df[columns_to_keep]\n",
    "    yerr = 1.96*df['year_error']\n",
    "    # creating colors range, generating color value for each year:\n",
    "    reds = cm.Reds\n",
    "    blues = cm.Blues\n",
    "    n = 100\n",
    "    y = 40000\n",
    "    df['diff'] = n*((y - df['year_avg']) / n)\n",
    "    df['sign'] = df['diff'].abs()/df['diff']\n",
    "    old_range = abs(df['diff']).min(), df['diff'].abs().max()\n",
    "    new_range = 0.2,1\n",
    "    df['shade'] = df['sign']*np.interp(df['diff'].abs(), old_range, new_range)\n",
    "    shade = df['shade']\n",
    "    colour = ['white' if x == 0 else reds(abs(x)) if x < 0 else blues(abs(x)) for x in shade]\n",
    "    # ploting\n",
    "    fig = plt.figure(figsize = (12,8))\n",
    "    plt.bar(df.index, df['year_avg'],\n",
    "            yerr = yerr,\n",
    "            edgecolor = 'black', \n",
    "            width=1,\n",
    "            linewidth='2', \n",
    "            capsize=10,\n",
    "            color = colour)\n",
    "    # reorganizing x axis and creating y line:\n",
    "    plt.xticks(df.index)\n",
    "    plt.axhline(y = y, color = 'grey', alpha = 0.8)\n",
    "    plt.text(1991.6, 42000, 'y = 40000', fontsize=12, va='center', ha='center', backgroundcolor='w', color= 'grey')\n",
    "    # saving and displaying figure\n",
    "    fig.savefig('assignment3.png', format = 'png')\n",
    "    plt.show()\n",
    "    \n",
    "data_to_barplot()"
   ]
  },
  {
   "cell_type": "code",
   "execution_count": null,
   "metadata": {
    "collapsed": true
   },
   "outputs": [],
   "source": []
  }
 ],
 "metadata": {
  "kernelspec": {
   "display_name": "Python 3",
   "language": "python",
   "name": "python3"
  },
  "language_info": {
   "codemirror_mode": {
    "name": "ipython",
    "version": 3
   },
   "file_extension": ".py",
   "mimetype": "text/x-python",
   "name": "python",
   "nbconvert_exporter": "python",
   "pygments_lexer": "ipython3",
   "version": "3.5.2"
  }
 },
 "nbformat": 4,
 "nbformat_minor": 1
}
