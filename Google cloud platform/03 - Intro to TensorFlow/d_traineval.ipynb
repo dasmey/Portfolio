{
 "cells": [
  {
   "cell_type": "markdown",
   "metadata": {},
   "source": [
    "## Challenge Exercise\n",
    "\n",
    "Modify your solution to the challenge exercise in c_dataset.ipynb appropriately."
   ]
  },
  {
   "cell_type": "code",
   "execution_count": 54,
   "metadata": {},
   "outputs": [
    {
     "name": "stdout",
     "output_type": "stream",
     "text": [
      "1.8.0\n"
     ]
    }
   ],
   "source": [
    "import datalab.bigquery as bq\n",
    "import tensorflow as tf\n",
    "import numpy as np\n",
    "import pandas as pd\n",
    "import shutil\n",
    "import math\n",
    "from google.datalab.ml import TensorBoard\n",
    "print(tf.__version__)"
   ]
  },
  {
   "cell_type": "code",
   "execution_count": 55,
   "metadata": {},
   "outputs": [],
   "source": [
    "df_train = pd.DataFrame(np.random.uniform(0.5, 2, 1000000), columns = ['radius'])\n",
    "df_train['height'] = np.random.uniform(0.5, 2, 1000000)\n",
    "\n",
    "df_valid = pd.DataFrame(np.random.uniform(0.5, 2, 10000), columns = ['radius'])\n",
    "df_valid['height'] = np.random.uniform(0.5, 2, 10000)"
   ]
  },
  {
   "cell_type": "code",
   "execution_count": 56,
   "metadata": {},
   "outputs": [],
   "source": [
    "labels = []\n",
    "for index, row in df_train.iterrows():\n",
    "  volume = math.pi * row['radius']**2 * row['height']\n",
    "  labels.append(volume)\n",
    "df_train['volume'] = labels\n",
    "\n",
    "labels.clear()\n",
    "for index, row in df_valid.iterrows():\n",
    "  volume = math.pi * row['radius']**2 * row['height']\n",
    "  labels.append(volume)\n",
    "df_valid['volume'] = labels\n",
    "\n",
    "# too long step, find another way to compute faster"
   ]
  },
  {
   "cell_type": "code",
   "execution_count": 57,
   "metadata": {},
   "outputs": [],
   "source": [
    "noise = np.random.uniform(-1, 1, 1000000)\n",
    "noise2 = np.random.uniform(-1, 1, 10000)\n",
    "df_train['volume'] = round(df_train['volume'] + noise*0.1, 1)\n",
    "df_train['radius'] = round(df_train['radius'], 1)\n",
    "df_train['height'] = round(df_train['height'], 1)\n",
    "\n",
    "df_valid['volume'] = round(df_valid['volume'] + noise2*0.1, 1)\n",
    "df_valid['radius'] = round(df_valid['radius'], 1)\n",
    "df_valid['height'] = round(df_valid['height'], 1)"
   ]
  },
  {
   "cell_type": "code",
   "execution_count": 58,
   "metadata": {},
   "outputs": [],
   "source": [
    "df_train.to_csv('df_train.csv', header = False)\n",
    "df_valid.to_csv('df_valid.csv', header = False)"
   ]
  },
  {
   "cell_type": "code",
   "execution_count": 59,
   "metadata": {},
   "outputs": [],
   "source": [
    "CSV_COLUMNS = ['radius', 'height', 'volume', 'key']\n",
    "LABEL_COLUMN = 'volume'\n",
    "DEFAULTS = [[1.0], [1.0], [5.0], ['nokey']]\n",
    "\n",
    "def read_dataset(filename, mode, batch_size = 512) :\n",
    "  def decode_csv(value_column):\n",
    "    columns = tf.decode_csv(value_column, record_defaults = DEFAULTS)\n",
    "    features = dict(zip(CSV_COLUMNS, columns))\n",
    "    label = features.pop(LABEL_COLUMN)\n",
    "    return features, label\n",
    "  \n",
    "  filenames_dataset = tf.data.Dataset.list_files(filename)\n",
    "  textlines_dataset = filenames_dataset.flat_map(tf.data.TextLineDataset)\n",
    "  dataset = textlines_dataset.map(decode_csv)\n",
    "  \n",
    "  if mode == tf.estimator.ModeKeys.TRAIN:\n",
    "    num_epochs = None\n",
    "    dataset = dataset.shuffle(buffer_size = 10 * batch_size)\n",
    "  else:\n",
    "    num_epochs = 1\n",
    "\n",
    "  dataset = dataset.repeat(num_epochs).batch(batch_size)\n",
    "  \n",
    "  return dataset"
   ]
  },
  {
   "cell_type": "code",
   "execution_count": 60,
   "metadata": {},
   "outputs": [],
   "source": [
    "INPUT_COLUMNS = [\n",
    "  tf.feature_column.numeric_column('radius'),\n",
    "  tf.feature_column.numeric_column('height'),\n",
    "]\n",
    "\n",
    "def add_more_features(feats):\n",
    "  # nothing yet\n",
    "  return feats\n",
    "\n",
    "feature_cols = add_more_features(INPUT_COLUMNS)"
   ]
  },
  {
   "cell_type": "code",
   "execution_count": 61,
   "metadata": {},
   "outputs": [],
   "source": [
    "def serving_input_fn():\n",
    "    json_feature_placeholders = {\n",
    "        'radius' : tf.placeholder(tf.float32, [None]),\n",
    "        'height' : tf.placeholder(tf.float32, [None]),\n",
    "    }\n",
    "    # You can transforma data here from the input format to the format expected by your model.\n",
    "    features = json_feature_placeholders # no transformation needed\n",
    "    return tf.estimator.export.ServingInputReceiver(features, json_feature_placeholders)"
   ]
  },
  {
   "cell_type": "code",
   "execution_count": 62,
   "metadata": {},
   "outputs": [],
   "source": [
    "def train_and_evaluate(output_dir, num_train_steps):\n",
    "  estimator = tf.estimator.LinearRegressor(\n",
    "                        model_dir = output_dir,\n",
    "                        feature_columns = feature_cols)\n",
    "  \n",
    "  train_spec = tf.estimator.TrainSpec(\n",
    "                        input_fn = lambda: read_dataset('./df_train.csv', mode = tf.estimator.ModeKeys.TRAIN),\n",
    "                        max_steps = num_train_steps)\n",
    "\n",
    "  exporter = tf.estimator.LatestExporter('exporter', serving_input_fn)\n",
    "\n",
    "  eval_spec = tf.estimator.EvalSpec(\n",
    "                        input_fn = lambda: read_dataset('./df_valid.csv', mode = tf.estimator.ModeKeys.EVAL),\n",
    "                        steps = None,\n",
    "                        start_delay_secs = 1, # start evaluating after N seconds\n",
    "                        throttle_secs = 10,  # evaluate every N seconds\n",
    "                        exporters = exporter)\n",
    "    \n",
    "  tf.estimator.train_and_evaluate(estimator, train_spec, eval_spec)"
   ]
  },
  {
   "cell_type": "code",
   "execution_count": 63,
   "metadata": {},
   "outputs": [
    {
     "data": {
      "text/html": [
       "<p>TensorBoard was started successfully with pid 3927. Click <a href=\"/_proxy/47977/\" target=\"_blank\">here</a> to access it.</p>"
      ]
     },
     "metadata": {},
     "output_type": "display_data"
    },
    {
     "data": {
      "text/plain": [
       "3927"
      ]
     },
     "execution_count": 63,
     "metadata": {},
     "output_type": "execute_result"
    }
   ],
   "source": [
    "OUTDIR = './df_trained'\n",
    "TensorBoard().start(OUTDIR)"
   ]
  },
  {
   "cell_type": "code",
   "execution_count": 64,
   "metadata": {},
   "outputs": [
    {
     "name": "stdout",
     "output_type": "stream",
     "text": [
      "INFO:tensorflow:Using default config.\n",
      "INFO:tensorflow:Using config: {'_model_dir': './df_trained', '_num_ps_replicas': 0, '_service': None, '_save_summary_steps': 100, '_is_chief': True, '_log_step_count_steps': 100, '_master': '', '_train_distribute': None, '_keep_checkpoint_max': 5, '_task_type': 'worker', '_num_worker_replicas': 1, '_save_checkpoints_steps': None, '_task_id': 0, '_keep_checkpoint_every_n_hours': 10000, '_evaluation_master': '', '_session_config': None, '_tf_random_seed': None, '_cluster_spec': <tensorflow.python.training.server_lib.ClusterSpec object at 0x7fb672e79b70>, '_global_id_in_cluster': 0, '_save_checkpoints_secs': 600}\n",
      "INFO:tensorflow:Running training and evaluation locally (non-distributed).\n",
      "INFO:tensorflow:Start train and evaluate loop. The evaluate will happen after 10 secs (eval_spec.throttle_secs) or training is finished.\n",
      "INFO:tensorflow:Calling model_fn.\n",
      "INFO:tensorflow:Done calling model_fn.\n",
      "INFO:tensorflow:Create CheckpointSaverHook.\n",
      "INFO:tensorflow:Graph was finalized.\n",
      "INFO:tensorflow:Running local_init_op.\n",
      "INFO:tensorflow:Done running local_init_op.\n",
      "INFO:tensorflow:Saving checkpoints for 1 into ./df_trained/model.ckpt.\n",
      "INFO:tensorflow:step = 1, loss = 901.6199\n",
      "INFO:tensorflow:global_step/sec: 48.1982\n",
      "INFO:tensorflow:step = 101, loss = 538570700.0 (2.084 sec)\n",
      "INFO:tensorflow:global_step/sec: 49.7181\n",
      "INFO:tensorflow:step = 201, loss = 1139486800.0 (2.010 sec)\n",
      "INFO:tensorflow:global_step/sec: 47.4898\n",
      "INFO:tensorflow:step = 301, loss = 1748372200.0 (2.104 sec)\n",
      "INFO:tensorflow:global_step/sec: 49.4876\n",
      "INFO:tensorflow:step = 401, loss = 2229754400.0 (2.021 sec)\n",
      "INFO:tensorflow:Saving checkpoints for 454 into ./df_trained/model.ckpt.\n",
      "INFO:tensorflow:Loss for final step: 2468839000.0.\n",
      "INFO:tensorflow:Calling model_fn.\n",
      "INFO:tensorflow:Done calling model_fn.\n",
      "INFO:tensorflow:Starting evaluation at 2018-11-14-13:37:40\n",
      "INFO:tensorflow:Graph was finalized.\n",
      "INFO:tensorflow:Restoring parameters from ./df_trained/model.ckpt-454\n",
      "INFO:tensorflow:Running local_init_op.\n",
      "INFO:tensorflow:Done running local_init_op.\n",
      "INFO:tensorflow:Finished evaluation at 2018-11-14-13:37:41\n",
      "INFO:tensorflow:Saving dict for global step 454: average_loss = 3094.287, global_step = 454, loss = 1547143.5\n",
      "INFO:tensorflow:Calling model_fn.\n",
      "INFO:tensorflow:Done calling model_fn.\n",
      "INFO:tensorflow:Signatures INCLUDED in export for Regress: None\n",
      "INFO:tensorflow:Signatures INCLUDED in export for Predict: ['predict']\n",
      "INFO:tensorflow:Signatures INCLUDED in export for Classify: None\n",
      "INFO:tensorflow:Signatures EXCLUDED from export because they cannot be be served via TensorFlow Serving APIs:\n",
      "INFO:tensorflow:'regression' : Regression input must be a single string Tensor; got {'radius': <tf.Tensor 'Placeholder:0' shape=(?,) dtype=float32>, 'height': <tf.Tensor 'Placeholder_1:0' shape=(?,) dtype=float32>}\n",
      "INFO:tensorflow:'serving_default' : Regression input must be a single string Tensor; got {'radius': <tf.Tensor 'Placeholder:0' shape=(?,) dtype=float32>, 'height': <tf.Tensor 'Placeholder_1:0' shape=(?,) dtype=float32>}\n",
      "WARNING:tensorflow:Export includes no default signature!\n",
      "INFO:tensorflow:Restoring parameters from ./df_trained/model.ckpt-454\n",
      "INFO:tensorflow:Assets added to graph.\n",
      "INFO:tensorflow:No assets to write.\n",
      "INFO:tensorflow:SavedModel written to: b\"./df_trained/export/exporter/temp-b'1542202661'/saved_model.pb\"\n",
      "INFO:tensorflow:Calling model_fn.\n",
      "INFO:tensorflow:Done calling model_fn.\n",
      "INFO:tensorflow:Create CheckpointSaverHook.\n",
      "INFO:tensorflow:Graph was finalized.\n",
      "INFO:tensorflow:Restoring parameters from ./df_trained/model.ckpt-454\n",
      "INFO:tensorflow:Running local_init_op.\n",
      "INFO:tensorflow:Done running local_init_op.\n",
      "INFO:tensorflow:Saving checkpoints for 455 into ./df_trained/model.ckpt.\n",
      "INFO:tensorflow:step = 455, loss = 476086.62\n",
      "INFO:tensorflow:global_step/sec: 48.3139\n",
      "INFO:tensorflow:step = 555, loss = 127786.69 (2.076 sec)\n",
      "INFO:tensorflow:global_step/sec: 49.3138\n",
      "INFO:tensorflow:step = 655, loss = 104.89282 (2.027 sec)\n",
      "INFO:tensorflow:global_step/sec: 49.5201\n",
      "INFO:tensorflow:step = 755, loss = 96.95865 (2.022 sec)\n",
      "INFO:tensorflow:global_step/sec: 49.422\n",
      "INFO:tensorflow:step = 855, loss = 101.52792 (2.022 sec)\n",
      "INFO:tensorflow:Saving checkpoints for 912 into ./df_trained/model.ckpt.\n",
      "INFO:tensorflow:Loss for final step: 124.59456.\n",
      "INFO:tensorflow:Calling model_fn.\n",
      "INFO:tensorflow:Done calling model_fn.\n",
      "INFO:tensorflow:Starting evaluation at 2018-11-14-13:37:51\n",
      "INFO:tensorflow:Graph was finalized.\n",
      "INFO:tensorflow:Restoring parameters from ./df_trained/model.ckpt-912\n",
      "INFO:tensorflow:Running local_init_op.\n",
      "INFO:tensorflow:Done running local_init_op.\n",
      "INFO:tensorflow:Finished evaluation at 2018-11-14-13:37:52\n",
      "INFO:tensorflow:Saving dict for global step 912: average_loss = 1.3365893, global_step = 912, loss = 668.2947\n",
      "INFO:tensorflow:Calling model_fn.\n",
      "INFO:tensorflow:Done calling model_fn.\n",
      "INFO:tensorflow:Signatures INCLUDED in export for Regress: None\n",
      "INFO:tensorflow:Signatures INCLUDED in export for Predict: ['predict']\n",
      "INFO:tensorflow:Signatures INCLUDED in export for Classify: None\n",
      "INFO:tensorflow:Signatures EXCLUDED from export because they cannot be be served via TensorFlow Serving APIs:\n",
      "INFO:tensorflow:'regression' : Regression input must be a single string Tensor; got {'radius': <tf.Tensor 'Placeholder:0' shape=(?,) dtype=float32>, 'height': <tf.Tensor 'Placeholder_1:0' shape=(?,) dtype=float32>}\n",
      "INFO:tensorflow:'serving_default' : Regression input must be a single string Tensor; got {'radius': <tf.Tensor 'Placeholder:0' shape=(?,) dtype=float32>, 'height': <tf.Tensor 'Placeholder_1:0' shape=(?,) dtype=float32>}\n",
      "WARNING:tensorflow:Export includes no default signature!\n",
      "INFO:tensorflow:Restoring parameters from ./df_trained/model.ckpt-912\n",
      "INFO:tensorflow:Assets added to graph.\n",
      "INFO:tensorflow:No assets to write.\n",
      "INFO:tensorflow:SavedModel written to: b\"./df_trained/export/exporter/temp-b'1542202672'/saved_model.pb\"\n",
      "INFO:tensorflow:Calling model_fn.\n",
      "INFO:tensorflow:Done calling model_fn.\n",
      "INFO:tensorflow:Create CheckpointSaverHook.\n",
      "INFO:tensorflow:Graph was finalized.\n",
      "INFO:tensorflow:Restoring parameters from ./df_trained/model.ckpt-912\n",
      "INFO:tensorflow:Running local_init_op.\n",
      "INFO:tensorflow:Done running local_init_op.\n",
      "INFO:tensorflow:Saving checkpoints for 913 into ./df_trained/model.ckpt.\n",
      "INFO:tensorflow:step = 913, loss = 698.0903\n",
      "INFO:tensorflow:Saving checkpoints for 1000 into ./df_trained/model.ckpt.\n",
      "INFO:tensorflow:Loss for final step: 123.799904.\n",
      "INFO:tensorflow:Calling model_fn.\n",
      "INFO:tensorflow:Done calling model_fn.\n",
      "INFO:tensorflow:Starting evaluation at 2018-11-14-13:37:56\n",
      "INFO:tensorflow:Graph was finalized.\n",
      "INFO:tensorflow:Restoring parameters from ./df_trained/model.ckpt-1000\n",
      "INFO:tensorflow:Running local_init_op.\n",
      "INFO:tensorflow:Done running local_init_op.\n",
      "INFO:tensorflow:Finished evaluation at 2018-11-14-13:37:56\n",
      "INFO:tensorflow:Saving dict for global step 1000: average_loss = 1.1211447, global_step = 1000, loss = 560.5723\n",
      "INFO:tensorflow:Calling model_fn.\n",
      "INFO:tensorflow:Done calling model_fn.\n",
      "INFO:tensorflow:Signatures INCLUDED in export for Regress: None\n",
      "INFO:tensorflow:Signatures INCLUDED in export for Predict: ['predict']\n",
      "INFO:tensorflow:Signatures INCLUDED in export for Classify: None\n",
      "INFO:tensorflow:Signatures EXCLUDED from export because they cannot be be served via TensorFlow Serving APIs:\n",
      "INFO:tensorflow:'regression' : Regression input must be a single string Tensor; got {'radius': <tf.Tensor 'Placeholder:0' shape=(?,) dtype=float32>, 'height': <tf.Tensor 'Placeholder_1:0' shape=(?,) dtype=float32>}\n",
      "INFO:tensorflow:'serving_default' : Regression input must be a single string Tensor; got {'radius': <tf.Tensor 'Placeholder:0' shape=(?,) dtype=float32>, 'height': <tf.Tensor 'Placeholder_1:0' shape=(?,) dtype=float32>}\n",
      "WARNING:tensorflow:Export includes no default signature!\n",
      "INFO:tensorflow:Restoring parameters from ./df_trained/model.ckpt-1000\n",
      "INFO:tensorflow:Assets added to graph.\n",
      "INFO:tensorflow:No assets to write.\n",
      "INFO:tensorflow:SavedModel written to: b\"./df_trained/export/exporter/temp-b'1542202677'/saved_model.pb\"\n"
     ]
    }
   ],
   "source": [
    "shutil.rmtree(OUTDIR, ignore_errors = True)\n",
    "train_and_evaluate(OUTDIR, num_train_steps = 1000)"
   ]
  },
  {
   "cell_type": "code",
   "execution_count": 65,
   "metadata": {},
   "outputs": [
    {
     "data": {
      "text/html": [
       "<div>\n",
       "<style scoped>\n",
       "    .dataframe tbody tr th:only-of-type {\n",
       "        vertical-align: middle;\n",
       "    }\n",
       "\n",
       "    .dataframe tbody tr th {\n",
       "        vertical-align: top;\n",
       "    }\n",
       "\n",
       "    .dataframe thead th {\n",
       "        text-align: right;\n",
       "    }\n",
       "</style>\n",
       "<table border=\"1\" class=\"dataframe\">\n",
       "  <thead>\n",
       "    <tr style=\"text-align: right;\">\n",
       "      <th></th>\n",
       "      <th>logdir</th>\n",
       "      <th>pid</th>\n",
       "      <th>port</th>\n",
       "    </tr>\n",
       "  </thead>\n",
       "  <tbody>\n",
       "    <tr>\n",
       "      <th>0</th>\n",
       "      <td>./df_trained</td>\n",
       "      <td>3834</td>\n",
       "      <td>41671</td>\n",
       "    </tr>\n",
       "    <tr>\n",
       "      <th>1</th>\n",
       "      <td>./df_trained</td>\n",
       "      <td>3888</td>\n",
       "      <td>48591</td>\n",
       "    </tr>\n",
       "    <tr>\n",
       "      <th>2</th>\n",
       "      <td>./df_trained</td>\n",
       "      <td>3927</td>\n",
       "      <td>47977</td>\n",
       "    </tr>\n",
       "  </tbody>\n",
       "</table>\n",
       "</div>"
      ],
      "text/plain": [
       "         logdir   pid   port\n",
       "0  ./df_trained  3834  41671\n",
       "1  ./df_trained  3888  48591\n",
       "2  ./df_trained  3927  47977"
      ]
     },
     "execution_count": 65,
     "metadata": {},
     "output_type": "execute_result"
    }
   ],
   "source": [
    "TensorBoard().list()"
   ]
  },
  {
   "cell_type": "code",
   "execution_count": 66,
   "metadata": {},
   "outputs": [
    {
     "name": "stdout",
     "output_type": "stream",
     "text": [
      "Stopped TensorBoard with pid 3834\n",
      "Stopped TensorBoard with pid 3888\n",
      "Stopped TensorBoard with pid 3927\n"
     ]
    }
   ],
   "source": [
    "pids_df = TensorBoard.list()\n",
    "if not pids_df.empty:\n",
    "  for pid in pids_df['pid']:\n",
    "    TensorBoard().stop(pid)\n",
    "    print('Stopped TensorBoard with pid {}'.format(pid))"
   ]
  },
  {
   "cell_type": "markdown",
   "metadata": {},
   "source": [
    "Copyright 2017 Google Inc. Licensed under the Apache License, Version 2.0 (the \"License\"); you may not use this file except in compliance with the License. You may obtain a copy of the License at http://www.apache.org/licenses/LICENSE-2.0 Unless required by applicable law or agreed to in writing, software distributed under the License is distributed on an \"AS IS\" BASIS, WITHOUT WARRANTIES OR CONDITIONS OF ANY KIND, either express or implied. See the License for the specific language governing permissions and limitations under the License"
   ]
  }
 ],
 "metadata": {
  "kernelspec": {
   "display_name": "Python 3",
   "language": "python",
   "name": "python3"
  },
  "language_info": {
   "codemirror_mode": {
    "name": "ipython",
    "version": 3
   },
   "file_extension": ".py",
   "mimetype": "text/x-python",
   "name": "python",
   "nbconvert_exporter": "python",
   "pygments_lexer": "ipython3",
   "version": "3.6.4"
  }
 },
 "nbformat": 4,
 "nbformat_minor": 1
}
